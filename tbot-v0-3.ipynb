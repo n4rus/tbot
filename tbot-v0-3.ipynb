{
 "cells": [
  {
   "cell_type": "markdown",
   "metadata": {},
   "source": [
    "### Tbot - Trade Bot\n",
    "\n",
    " Tbot is a Robot of trade developed to trade cryptourrencies or s&p500 stocks, based on https/json queries. With few adjustments it may help traders to improve their workflow. In this file we shall compile three steps followed at the \"Algorithimic Trading Using Python\" course created by the api developer and completed by the developer of this api. (\"https://freecodecamp.org\")\n",
    " \n",
    "### Library Imports\n",
    "The first thing we need to do is import the open-source software libraries that we'll be using in this api. "
   ]
  },
  {
   "cell_type": "code",
   "execution_count": 53,
   "metadata": {},
   "outputs": [],
   "source": [
    "import numpy as np\n",
    "import pandas as pd\n",
    "import requests\n",
    "import secrets\n",
    "import xlsxwriter\n",
    "import math\n",
    "import hmac\n",
    "import time\n",
    "import datetime\n",
    "import hashlib\n",
    "import binascii"
   ]
  },
  {
   "cell_type": "markdown",
   "metadata": {},
   "source": [
    "### Timestamp data\n",
    "Acquires timestamp and stores it"
   ]
  },
  {
   "cell_type": "code",
   "execution_count": 11,
   "metadata": {},
   "outputs": [],
   "source": [
    "#Moved to API section because of query purposes"
   ]
  },
  {
   "cell_type": "markdown",
   "metadata": {},
   "source": [
    "### API token, secret key and acess keys\n",
    "\n",
    "API tokens (and other sensitive information) shall be stored in a secrets.py file that doesn't get pushed to your local Git repository. The AcessKey and SecretKey are provided by the server admin."
   ]
  },
  {
   "cell_type": "code",
   "execution_count": 54,
   "metadata": {},
   "outputs": [],
   "source": [
    "from secrets import SecretKey\n",
    "from secrets import AccessKey"
   ]
  },
  {
   "cell_type": "code",
   "execution_count": 43,
   "metadata": {},
   "outputs": [
    {
     "name": "stdout",
     "output_type": "stream",
     "text": [
      "d78289fade81913f81cc26bcaa688c143388fb8da4fc1ab8d4acfe57721a7890\n",
      "{'code': 'A10003', 'data': None, 'message': \"Authentication failed, The correct signature after encryption HMAC-SHA256 should be initiated with '8038a4'. Please check If you applied the HMAC-SHA256 hash function correctly; If the SecretKey is correctly input; If the signature string is 'GET\\n/v1/orders/list\\n\\n1613419483413'.\"}\n"
     ]
    }
   ],
   "source": [
    "#signature encrypt\n",
    "def _generate_signature(data):\n",
    "    key = 'key'\n",
    "    key_bytes= bytes(key , 'utf-8') \n",
    "    data_bytes = bytes(data, 'utf-8')\n",
    "    return hmac.new(key_bytes, data_bytes , hashlib.sha256).hexdigest()\n",
    "\n",
    "queryStr = \"name=user&cpf=012345678912&birthday=1999-01-31\"\n",
    "\n",
    "#urlencode = \"https://api.novadax.com/\"\n",
    "urlencode = \"https://api.novadax.com/v1/orders/list\"\n",
    "\n",
    "timestamp_url = f'https://api.novadax.com/v1/common/timestamp'\n",
    "Timestamp = requests.get(timestamp_url).json()\n",
    "tsp = str(Timestamp['data'])\n",
    "#print(timestamp)\n",
    "\n",
    "\n",
    "qStr = f'{urlencode}{queryStr}{tsp}'\n",
    "signStr = urlencode\n",
    "\n",
    "#encode\n",
    "signature = f'{qStr}{SecretKey}'\n",
    "hmac_sha256 = _generate_signature(signature)\n",
    "Sign = hmac_sha256\n",
    "print(Sign)\n",
    "\n",
    "#{método de requisição}\\n{caminho de requisição}\\n{string a ser codificada}\\n{timeStamp}\n",
    "signStrget = requests.get(signStr, headers={\"X-Nova-Access-Key\":AccessKey, \"X-Nova-Signature\": Sign, \"X-Nova-Timestamp\": tsp}).json()\n",
    "print(signStrget)"
   ]
  },
  {
   "cell_type": "markdown",
   "metadata": {},
   "source": [
    "### Importing tht List of currencies, making the API Call and the table Dataframe\n",
    "Now it's time to structure our API calls to the api url.\n",
    "The next thing we need to do is import the constituents of the cryptocurrencies table."
   ]
  },
  {
   "cell_type": "code",
   "execution_count": 55,
   "metadata": {
    "scrolled": true
   },
   "outputs": [],
   "source": [
    "#API call\n",
    "symbols = ['ETH_USDT', 'BTC_USDT']\n",
    "symbol = 'ETH_USDT'\n",
    "api_url = f'https://api.novadax.com/v1/market/ticker?symbol={symbol}'\n",
    "df = requests.get(api_url).json()"
   ]
  },
  {
   "cell_type": "code",
   "execution_count": 56,
   "metadata": {},
   "outputs": [],
   "source": [
    "#Parse for data then get price\n",
    "dfdata = df['data']\n",
    "price = float(dfdata['lastPrice'])\n",
    "baseVolume24h = dfdata['baseVolume24h']"
   ]
  },
  {
   "cell_type": "code",
   "execution_count": 46,
   "metadata": {},
   "outputs": [
    {
     "name": "stdout",
     "output_type": "stream",
     "text": [
      "Enter the value of your position in BRL:885\n",
      "R$ 885\n"
     ]
    }
   ],
   "source": [
    "currency = 'R$'\n",
    "def position():\n",
    "    global position\n",
    "    position = input(\"Enter the value of your position in BRL:\")\n",
    "\n",
    "    try:\n",
    "        val = float(position)\n",
    "    except ValueError:\n",
    "        print(\"That's not a number! \\n Try again:\")\n",
    "        position = input(\"Enter the value of your position in BRL:\")\n",
    "\n",
    "        \n",
    "position()\n",
    "print(currency, position)"
   ]
  },
  {
   "cell_type": "code",
   "execution_count": 47,
   "metadata": {},
   "outputs": [
    {
     "name": "stdout",
     "output_type": "stream",
     "text": [
      "Enter the dolar value today in BRL:5.36\n",
      "R$ 5.36\n"
     ]
    }
   ],
   "source": [
    "def dolar_day():\n",
    "    global dolar_day\n",
    "    dolar_day = input(\"Enter the dolar value today in BRL:\")\n",
    "\n",
    "    try:\n",
    "        val = float(dolar_day)\n",
    "    except ValueError:\n",
    "        print(\"That's not a number! \\n Try again:\")\n",
    "        dolar_day = input(\"Enter the dolar value today in BRL:\")\n",
    "dolar_day()\n",
    "print(currency, dolar_day)"
   ]
  },
  {
   "cell_type": "code",
   "execution_count": 48,
   "metadata": {},
   "outputs": [
    {
     "data": {
      "text/html": [
       "<div>\n",
       "<style scoped>\n",
       "    .dataframe tbody tr th:only-of-type {\n",
       "        vertical-align: middle;\n",
       "    }\n",
       "\n",
       "    .dataframe tbody tr th {\n",
       "        vertical-align: top;\n",
       "    }\n",
       "\n",
       "    .dataframe thead th {\n",
       "        text-align: right;\n",
       "    }\n",
       "</style>\n",
       "<table border=\"1\" class=\"dataframe\">\n",
       "  <thead>\n",
       "    <tr style=\"text-align: right;\">\n",
       "      <th></th>\n",
       "      <th>Symbol</th>\n",
       "      <th>Currency Price</th>\n",
       "      <th>Base Volume 24h</th>\n",
       "      <th>Number of Shares to Buy</th>\n",
       "    </tr>\n",
       "  </thead>\n",
       "  <tbody>\n",
       "    <tr>\n",
       "      <th>0</th>\n",
       "      <td>ETH_USDT</td>\n",
       "      <td>1828.33</td>\n",
       "      <td>13.6332</td>\n",
       "      <td>0.090308</td>\n",
       "    </tr>\n",
       "    <tr>\n",
       "      <th>1</th>\n",
       "      <td>BTC_USDT</td>\n",
       "      <td>48614.28</td>\n",
       "      <td>2.510448</td>\n",
       "      <td>0.003396</td>\n",
       "    </tr>\n",
       "  </tbody>\n",
       "</table>\n",
       "</div>"
      ],
      "text/plain": [
       "     Symbol Currency Price Base Volume 24h  Number of Shares to Buy\n",
       "0  ETH_USDT        1828.33         13.6332                 0.090308\n",
       "1  BTC_USDT       48614.28        2.510448                 0.003396"
      ]
     },
     "execution_count": 48,
     "metadata": {},
     "output_type": "execute_result"
    }
   ],
   "source": [
    "#Final Dataframe\n",
    "my_columns = ['Symbol', 'Currency Price', 'Base Volume 24h', 'Number of Shares to Buy']\n",
    "f_dataframe = pd.DataFrame(columns = my_columns)\n",
    "\n",
    "for symbol in symbols:\n",
    "    api_url = f'https://api.novadax.com/v1/market/ticker?symbol={symbol}'\n",
    "    fddata = requests.get(api_url).json()\n",
    "    fdata = fddata['data']\n",
    "    price = float(fdata['lastPrice'])\n",
    "    baseVolume24h = fdata['baseVolume24h']\n",
    "    shares_to_buy = (float(position)/float(dolar_day)/float(price))\n",
    "    for i in fdata['symbol'][:1]:\n",
    "        f_dataframe.append(\n",
    "            pd.Series(\n",
    "                [\n",
    "                    symbol,\n",
    "                    price,\n",
    "                    baseVolume24h,\n",
    "                    'N/A'\n",
    "                ]\n",
    "                ,index = my_columns),\n",
    "            ignore_index=True)\n",
    "    \n",
    "    \n",
    "        f_dataframe = f_dataframe.append(\n",
    "                                            pd.Series([symbol, \n",
    "                                                       fdata['lastPrice'], \n",
    "\n",
    "                                                       fdata['baseVolume24h'], \n",
    "                                                       shares_to_buy], \n",
    "                                                      index = my_columns), \n",
    "                                            ignore_index = True)\n",
    "\n",
    "f_dataframe"
   ]
  },
  {
   "cell_type": "markdown",
   "metadata": {},
   "source": [
    "### Sending the requisition to the web\n",
    "The content in the order requisition should be sent to the server following the instructions given by the company or individual that holds the coin."
   ]
  },
  {
   "cell_type": "code",
   "execution_count": 78,
   "metadata": {},
   "outputs": [
    {
     "name": "stdout",
     "output_type": "stream",
     "text": [
      "{'code': 'A10000', 'data': {'amountPrecision': 4, 'baseCurrency': 'ETH', 'minOrderAmount': '0.002', 'minOrderValue': '5', 'pricePrecision': 2, 'quoteCurrency': 'USDT', 'status': 'ONLINE', 'symbol': 'ETH_USDT', 'valuePrecision': 6}, 'message': 'Success'}\n"
     ]
    }
   ],
   "source": [
    "from novadax import RequestClient as NovaClient\n",
    "\n",
    "nova_client = NovaClient(AccessKey, SecretKey)\n",
    "\n",
    "result = nova_client.get_symbol(symbol)\n",
    "print(result)"
   ]
  },
  {
   "cell_type": "code",
   "execution_count": 82,
   "metadata": {},
   "outputs": [
    {
     "name": "stdout",
     "output_type": "stream",
     "text": [
      "{'code': 'A10000', 'data': [{'amount': '0.009027', 'price': '48739.19', 'side': 'BUY', 'timestamp': 1613419646712}, {'amount': '0.001646', 'price': '48614.28', 'side': 'SELL', 'timestamp': 1613419105662}, {'amount': '0.000568', 'price': '48668.72', 'side': 'SELL', 'timestamp': 1613418932777}, {'amount': '0.037266', 'price': '48644', 'side': 'BUY', 'timestamp': 1613418687545}, {'amount': '0.011059', 'price': '48640', 'side': 'BUY', 'timestamp': 1613418687545}, {'amount': '0.053986', 'price': '48594.58', 'side': 'BUY', 'timestamp': 1613418339623}, {'amount': '0.037303', 'price': '48497.74', 'side': 'SELL', 'timestamp': 1613417660447}, {'amount': '0.003247', 'price': '48499.19', 'side': 'BUY', 'timestamp': 1613415414771}, {'amount': '0.000464', 'price': '48428.59', 'side': 'SELL', 'timestamp': 1613414562185}, {'amount': '0.019642', 'price': '48543.93', 'side': 'SELL', 'timestamp': 1613411869722}], 'message': 'Success'}\n"
     ]
    }
   ],
   "source": [
    "#orders\n",
    "listtrades = nova_client.list_trades(symbol, limit=10)\n",
    "print(listtrades)"
   ]
  },
  {
   "cell_type": "code",
   "execution_count": 84,
   "metadata": {},
   "outputs": [
    {
     "ename": "TypeError",
     "evalue": "list indices must be integers or slices, not str",
     "output_type": "error",
     "traceback": [
      "\u001b[0;31m---------------------------------------------------------------------------\u001b[0m",
      "\u001b[0;31mTypeError\u001b[0m                                 Traceback (most recent call last)",
      "\u001b[0;32m<ipython-input-84-0f780d06f6aa>\u001b[0m in \u001b[0;36m<module>\u001b[0;34m\u001b[0m\n\u001b[1;32m      6\u001b[0m \u001b[0;34m\u001b[0m\u001b[0m\n\u001b[1;32m      7\u001b[0m     \u001b[0mldata\u001b[0m \u001b[0;34m=\u001b[0m \u001b[0mlisttrades\u001b[0m\u001b[0;34m[\u001b[0m\u001b[0;34m'data'\u001b[0m\u001b[0;34m]\u001b[0m\u001b[0;34m\u001b[0m\u001b[0;34m\u001b[0m\u001b[0m\n\u001b[0;32m----> 8\u001b[0;31m     \u001b[0mTimestamp\u001b[0m \u001b[0;34m=\u001b[0m \u001b[0mfloat\u001b[0m\u001b[0;34m(\u001b[0m\u001b[0mldata\u001b[0m\u001b[0;34m[\u001b[0m\u001b[0;34m'timestamp'\u001b[0m\u001b[0;34m]\u001b[0m\u001b[0;34m)\u001b[0m\u001b[0;34m\u001b[0m\u001b[0;34m\u001b[0m\u001b[0m\n\u001b[0m\u001b[1;32m      9\u001b[0m     \u001b[0mtsp\u001b[0m \u001b[0;34m=\u001b[0m \u001b[0mTimestamp\u001b[0m\u001b[0;34m\u001b[0m\u001b[0;34m\u001b[0m\u001b[0m\n\u001b[1;32m     10\u001b[0m     \u001b[0mamount\u001b[0m \u001b[0;34m=\u001b[0m \u001b[0mfloat\u001b[0m\u001b[0;34m(\u001b[0m\u001b[0mldata\u001b[0m\u001b[0;34m[\u001b[0m\u001b[0;34m'amount'\u001b[0m\u001b[0;34m]\u001b[0m\u001b[0;34m)\u001b[0m\u001b[0;34m\u001b[0m\u001b[0;34m\u001b[0m\u001b[0m\n",
      "\u001b[0;31mTypeError\u001b[0m: list indices must be integers or slices, not str"
     ]
    }
   ],
   "source": [
    "my_columns = ['Symbol', 'Ammount','Price']\n",
    "f_dataframe = pd.DataFrame(columns = my_columns)\n",
    "\n",
    "for symbol in symbols:\n",
    "    listtrades = nova_client.list_trades(symbol, limit=10)\n",
    "    \n",
    "    ldata = listtrades['data']\n",
    "    Timestamp = (ldata['timestamp'])\n",
    "    tsp = Timestamp\n",
    "    amount = float(ldata['amount'])\n",
    "    price = float(ldata['price'])\n",
    "    \n",
    "    for i in fdata['symbol'][:1]:\n",
    "        f_dataframe.append(\n",
    "            pd.Series(\n",
    "                [\n",
    "                    symbol,\n",
    "                    amount,\n",
    "                    price,\n",
    "                ]\n",
    "                ,index = my_columns),\n",
    "            ignore_index=True)\n",
    "    \n",
    "    \n",
    "        f_dataframe = f_dataframe.append(\n",
    "            pd.Series([\n",
    "                    symbol,\n",
    "                    amount,\n",
    "                    price,\n",
    "                      ]\n",
    "            ,index = my_columns), \n",
    "            ignore_index = True)\n",
    "\n",
    "f_dataframe"
   ]
  },
  {
   "cell_type": "code",
   "execution_count": 19,
   "metadata": {},
   "outputs": [],
   "source": []
  },
  {
   "cell_type": "raw",
   "metadata": {},
   "source": []
  },
  {
   "cell_type": "code",
   "execution_count": null,
   "metadata": {},
   "outputs": [],
   "source": []
  }
 ],
 "metadata": {
  "kernelspec": {
   "display_name": "Python 3",
   "language": "python",
   "name": "python3"
  },
  "language_info": {
   "codemirror_mode": {
    "name": "ipython",
    "version": 3
   },
   "file_extension": ".py",
   "mimetype": "text/x-python",
   "name": "python",
   "nbconvert_exporter": "python",
   "pygments_lexer": "ipython3",
   "version": "3.8.5"
  }
 },
 "nbformat": 4,
 "nbformat_minor": 4
}
