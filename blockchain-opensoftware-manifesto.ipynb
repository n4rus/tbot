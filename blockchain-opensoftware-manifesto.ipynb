{
 "cells": [
  {
   "cell_type": "markdown",
   "metadata": {},
   "source": [
    "#For the blockchain open software manifesto was included a new header file for description and guidance to the new softwares that should be included in the near and distant future. If the tech is a reality and suceeds it may have an impact on how the software is developed and stored. Cryptocurrencies depends on libraries that are held on open software, and that software is part of our system already. For as long as humans develop economies or systems that uses science, they shall be demanding on the laws of physics and mathenathics. Both of them are now united now and humanity are fast fowarding more and more. We must use inteligence to turn our civilization to the most amazing ways for the better of everything that worths. \n",
    "Some exemplae of libraries that we used for the development of Rest API's are listed below:\n",
    "pandas\n",
    "seaborn\n",
    "numpy\n",
    "jupyter-notebook\n",
    "datetime\n",
    "time\n",
    "hashlib\n",
    "hmac\n",
    "binascii\n",
    "requests\n",
    "xlxswriter\n",
    "The same way the script for trading uses libraries that are held on the network, and in the grid, the blockchain does the job by picking up libraries and using them in the same way. The amount of energy and information on the grid are correlated. Mathemathics does the job we just complain."
   ]
  }
 ],
 "metadata": {
  "kernelspec": {
   "display_name": "Python 3",
   "language": "python",
   "name": "python3"
  },
  "language_info": {
   "codemirror_mode": {
    "name": "ipython",
    "version": 3
   },
   "file_extension": ".py",
   "mimetype": "text/x-python",
   "name": "python",
   "nbconvert_exporter": "python",
   "pygments_lexer": "ipython3",
   "version": "3.8.5"
  }
 },
 "nbformat": 4,
 "nbformat_minor": 4
}
