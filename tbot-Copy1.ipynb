{
 "cells": [
  {
   "cell_type": "markdown",
   "metadata": {},
   "source": [
    "### Tbot - Trade Bot\n",
    "\n",
    " Tbot is a Robot of trade developed to trade cryptourrencies or s&p500 stocks, based on https/json queries. With few adjustments it may help traders to improve their workflow. In this file we shall compile three steps followed at the \"Algorithimic Trading Using Python\" course created by the api developer and completed by the developer of this api. (\"https://freecodecamp.org\")\n",
    " \n",
    "### Library Imports\n",
    "The first thing we need to do is import the open-source software libraries that we'll be using in this api. "
   ]
  },
  {
   "cell_type": "code",
   "execution_count": 2,
   "metadata": {},
   "outputs": [],
   "source": [
    "import numpy as np\n",
    "import pandas as pd\n",
    "import requests\n",
    "import secrets\n",
    "import xlsxwriter\n",
    "import math\n",
    "import hmac\n",
    "import time\n",
    "import datetime\n",
    "import hashlib\n",
    "import binascii"
   ]
  },
  {
   "cell_type": "markdown",
   "metadata": {},
   "source": [
    "### Timestamp data\n",
    "Acquires timestamp and stores it"
   ]
  },
  {
   "cell_type": "code",
   "execution_count": 3,
   "metadata": {},
   "outputs": [],
   "source": [
    "#Moved to API section because query purposes\n",
    "#Reference: https://www.guru99.com/date-time-and-datetime-classes-in-python.html\n",
    "#from datetime import datetime\n",
    "#today = datetime.now()\n",
    "#today_date = datetime.time(datetime.now())\n",
    "\n",
    "#TIMESTAMP\n",
    "#Reference: https://stackoverflow.com/questions/5998245/get-current-time-in-milliseconds-in-python\n",
    "#milliseconds = int(round(time.time() * 1000))\n",
    "#Timestamp = milliseconds\n",
    "# returns seconds from struct_time\n",
    "#print(\"Miliseconds today's date: \", today)\n",
    "#print(\"Timestamp: \", milliseconds)\n",
    "\n",
    "\n",
    "#timestamp https://www.youtube.com/watch?v=XX4jTksUFB8"
   ]
  },
  {
   "cell_type": "code",
   "execution_count": null,
   "metadata": {},
   "outputs": [],
   "source": []
  },
  {
   "cell_type": "markdown",
   "metadata": {},
   "source": [
    "### API token, acess key and acess keys\n",
    "\n",
    "API tokens (and other sensitive information) shall be stored in a secrets.py file that doesn't get pushed to your local Git repository. The AcessKey and SecretKey are provided by the server admin."
   ]
  },
  {
   "cell_type": "code",
   "execution_count": 6,
   "metadata": {},
   "outputs": [
    {
     "name": "stdout",
     "output_type": "stream",
     "text": [
      "{'code': 'A10000', 'data': {'ask': '1828.44', 'baseVolume24h': '64.5845', 'bid': '1817.32', 'high24h': '1817.43', 'lastPrice': '1803.34', 'low24h': '1740.64', 'open24h': '1780.01', 'quoteVolume24h': '114509.980079', 'symbol': 'ETH_USDT', 'timestamp': 1613150555288}, 'message': 'Success'}\n",
      "4186e8df8352e9992138390a96b6d964ca88f33b0a1b029becc77351456d996d\n",
      "{'code': 'A10000', 'data': {'ask': '1828.44', 'baseVolume24h': '64.5845', 'bid': '1817.32', 'high24h': '1817.43', 'lastPrice': '1803.34', 'low24h': '1740.64', 'open24h': '1780.01', 'quoteVolume24h': '114509.980079', 'symbol': 'ETH_USDT', 'timestamp': 1613150557257}, 'message': 'Success'}\n"
     ]
    }
   ],
   "source": [
    "from secrets import AccessKey \n",
    "from secrets import SecretKey\n",
    "\n",
    "\n",
    "#https://stackoverflow.com/questions/31848293/python3-and-hmac-how-to-handle-string-not-being-binary\n",
    "def _generate_signature(data):\n",
    "    key = 'key'\n",
    "    key_bytes= bytes(key , 'utf-8') \n",
    "    data_bytes = bytes(data, 'utf-8')\n",
    "    return hmac.new(key_bytes, data_bytes , hashlib.sha256).hexdigest()\n",
    "\n",
    "queryStr = \"110 097 109 101 061 108 117 099 097 115 101 100 117 097 114 100 111 106 097 103 117 115 122 101 119 115 107 105 100 097 115 105 108 118 097 038 099 112 102 061 048 056 053 055 054 053 055 048 057 055 049 038 098 105 114 116 104 100 097 121 061 049 057 057 052 045 049 050 045 049 057\"\n",
    "\n",
    "#urlencode\n",
    "#\"https://api.novadax.com/v1/common/symbols/birthday=1994-12-19&cpf=08576570971&name=lucaseduardojaguszewskidasilva\"\n",
    "body = {\"name\":\"lucaseduardojaguszewskidasilva\",\"cpf\":\"08576570971\",\"bithday\":\"1994-12-19\"}\n",
    "body_hash = _generate_signature(f\"{body}\")\n",
    "symbol = 'ETH_USDT'\n",
    "signStr = f'https://api.novadax.com/v1/market/ticker?symbol={symbol}'\n",
    "signStry = requests.get(signStr).json()\n",
    "print(signStry)\n",
    "\n",
    "#qstr = \"110097109101061108117099097115101100117097114100111106097103117115122101119115107105100097115105108118097038099112102061048056053055054053055048057055049038098105114116104100097121061049057057052045049050045049057\"\n",
    "qStr = _generate_signature(queryStr)\n",
    "\n",
    "timestamp_url = f'https://api.novadax.com/v1/common/timestamp'\n",
    "Timestamp = requests.get(timestamp_url).json()\n",
    "tsp = str(Timestamp['data'])\n",
    "\n",
    "signature = f'{queryStr}{SecretKey}'\n",
    "\n",
    "hmac_sha256 = _generate_signature(signature)\n",
    "Sign = hmac_sha256\n",
    "print(Sign)\n",
    "\n",
    "#{método de requisição}\\n{caminho de requisição}\\n{string a ser codificada}\\n{timeStamp}\n",
    "signStrget = requests.get(signStr, headers={\"X-Nova-Access-Key\":AccessKey, \"X-Nova-Signature\": Sign, \"X-Nova-Timestamp\": tsp}).json()\n",
    "print(signStrget)"
   ]
  },
  {
   "cell_type": "code",
   "execution_count": null,
   "metadata": {},
   "outputs": [],
   "source": []
  },
  {
   "cell_type": "markdown",
   "metadata": {},
   "source": [
    "### Importing tht List of currencies, making the API Call and the table Dataframe\n",
    "Now it's time to structure our API calls to the api url.\n",
    "The next thing we need to do is import the constituents of the cryptocurrencies table."
   ]
  },
  {
   "cell_type": "code",
   "execution_count": 4,
   "metadata": {
    "scrolled": true
   },
   "outputs": [
    {
     "data": {
      "text/plain": [
       "{'code': 'A10000',\n",
       " 'data': {'ask': '1793.55',\n",
       "  'baseVolume24h': '14.8563',\n",
       "  'bid': '1782.8',\n",
       "  'high24h': '1811.13',\n",
       "  'lastPrice': '1794',\n",
       "  'low24h': '1713.84',\n",
       "  'open24h': '1716.39',\n",
       "  'quoteVolume24h': '26484.647021',\n",
       "  'symbol': 'ETH_USDT',\n",
       "  'timestamp': 1613063465279},\n",
       " 'message': 'Success'}"
      ]
     },
     "execution_count": 4,
     "metadata": {},
     "output_type": "execute_result"
    }
   ],
   "source": [
    "#API call\n",
    "symbol = 'ETH_USDT'\n",
    "api_url = f'https://api.novadax.com/v1/market/ticker?symbol={symbol}'\n",
    "df = requests.get(api_url).json()\n",
    "df"
   ]
  },
  {
   "cell_type": "code",
   "execution_count": 5,
   "metadata": {},
   "outputs": [],
   "source": [
    "signStrget = requests.get(signStr).json()"
   ]
  },
  {
   "cell_type": "code",
   "execution_count": 6,
   "metadata": {},
   "outputs": [
    {
     "name": "stdout",
     "output_type": "stream",
     "text": [
      "14.8563\n"
     ]
    }
   ],
   "source": [
    "#Parse for data then get price\n",
    "dfdata = df['data']\n",
    "price = dfdata['lastPrice']\n",
    "baseVolume24h = dfdata['baseVolume24h']\n",
    "print(baseVolume24h)"
   ]
  },
  {
   "cell_type": "code",
   "execution_count": 7,
   "metadata": {},
   "outputs": [
    {
     "data": {
      "text/html": [
       "<div>\n",
       "<style scoped>\n",
       "    .dataframe tbody tr th:only-of-type {\n",
       "        vertical-align: middle;\n",
       "    }\n",
       "\n",
       "    .dataframe tbody tr th {\n",
       "        vertical-align: top;\n",
       "    }\n",
       "\n",
       "    .dataframe thead th {\n",
       "        text-align: right;\n",
       "    }\n",
       "</style>\n",
       "<table border=\"1\" class=\"dataframe\">\n",
       "  <thead>\n",
       "    <tr style=\"text-align: right;\">\n",
       "      <th></th>\n",
       "      <th>Symbol</th>\n",
       "      <th>Currency Price</th>\n",
       "      <th>Base Volume 24h</th>\n",
       "      <th>Number of Shares to Buy</th>\n",
       "    </tr>\n",
       "  </thead>\n",
       "  <tbody>\n",
       "    <tr>\n",
       "      <th>0</th>\n",
       "      <td>ETH_USDT</td>\n",
       "      <td>1794</td>\n",
       "      <td>14.8563</td>\n",
       "      <td>N/A</td>\n",
       "    </tr>\n",
       "  </tbody>\n",
       "</table>\n",
       "</div>"
      ],
      "text/plain": [
       "     Symbol Currency Price Base Volume 24h Number of Shares to Buy\n",
       "0  ETH_USDT           1794         14.8563                     N/A"
      ]
     },
     "execution_count": 7,
     "metadata": {},
     "output_type": "execute_result"
    }
   ],
   "source": [
    "#Dataframe\n",
    "my_columns = ['Symbol', 'Currency Price', 'Base Volume 24h', 'Number of Shares to Buy']\n",
    "final_dataframe = pd.DataFrame(columns = my_columns)\n",
    "\n",
    "for i in dfdata['symbol'][:1]:\n",
    "    final_dataframe.append(\n",
    "        pd.Series(\n",
    "            [\n",
    "                symbol,\n",
    "                price,\n",
    "                baseVolume24h,\n",
    "                'N/A'\n",
    "            ]\n",
    "            ,index = my_columns),\n",
    "        ignore_index=True)\n",
    "\n",
    "    \n",
    "    final_dataframe = final_dataframe.append(\n",
    "                                        pd.Series([symbol, \n",
    "                                                   dfdata['lastPrice'], \n",
    "          \n",
    "                                                   dfdata['baseVolume24h'], \n",
    "                                                   'N/A'], \n",
    "                                                  index = my_columns), \n",
    "                                        ignore_index = True)\n",
    "\n",
    "final_dataframe"
   ]
  },
  {
   "cell_type": "code",
   "execution_count": null,
   "metadata": {},
   "outputs": [],
   "source": []
  },
  {
   "cell_type": "markdown",
   "metadata": {},
   "source": [
    "### Sending the requisition to the web\n",
    "The content in the order requisition should be sent to the server following the instructions given by the company or individual that holds the coin."
   ]
  },
  {
   "cell_type": "code",
   "execution_count": 8,
   "metadata": {},
   "outputs": [],
   "source": [
    "#dax_url = f'https://api.novadax.com/v1/common/symbols'\n",
    "#novadax = requests.get(dax_url).json()\n",
    "#nvdx = novadax['data']\n",
    "#print(nvdx)\n",
    "#from novadax import RequestClient as NovaClient\n",
    "\n",
    "#nova_client = NovaClient(AcessKey, SecretKey)\n",
    "\n",
    "#result = nova_client.create_order('BTC_BRL', 'LIMIT', 'BUY', price = '35000.00', amount = '0.001')\n",
    "\n",
    "#print(result)"
   ]
  },
  {
   "cell_type": "code",
   "execution_count": null,
   "metadata": {},
   "outputs": [],
   "source": []
  },
  {
   "cell_type": "code",
   "execution_count": null,
   "metadata": {},
   "outputs": [],
   "source": []
  }
 ],
 "metadata": {
  "kernelspec": {
   "display_name": "Python 3",
   "language": "python",
   "name": "python3"
  },
  "language_info": {
   "codemirror_mode": {
    "name": "ipython",
    "version": 3
   },
   "file_extension": ".py",
   "mimetype": "text/x-python",
   "name": "python",
   "nbconvert_exporter": "python",
   "pygments_lexer": "ipython3",
   "version": "3.8.5"
  }
 },
 "nbformat": 4,
 "nbformat_minor": 4
}
