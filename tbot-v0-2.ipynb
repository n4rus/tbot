{
 "cells": [
  {
   "cell_type": "markdown",
   "metadata": {},
   "source": [
    "### Tbot - Trade Bot\n",
    "\n",
    " Tbot is a Robot of trade developed to trade cryptourrencies or s&p500 stocks, based on https/json queries. With few adjustments it may help traders to improve their workflow. In this file we shall compile three steps followed at the \"Algorithimic Trading Using Python\" course created by the api developer and completed by the developer of this api. (\"https://freecodecamp.org\")\n",
    " \n",
    "### Library Imports\n",
    "The first thing we need to do is import the open-source software libraries that we'll be using in this api. "
   ]
  },
  {
   "cell_type": "code",
   "execution_count": 3,
   "metadata": {},
   "outputs": [],
   "source": [
    "import numpy as np\n",
    "import pandas as pd\n",
    "import requests\n",
    "import secrets\n",
    "import xlsxwriter\n",
    "import math\n",
    "import hmac\n",
    "import time\n",
    "import datetime\n",
    "import hashlib\n",
    "import binascii"
   ]
  },
  {
   "cell_type": "markdown",
   "metadata": {},
   "source": [
    "### Timestamp data\n",
    "Acquires timestamp and stores it"
   ]
  },
  {
   "cell_type": "code",
   "execution_count": null,
   "metadata": {},
   "outputs": [],
   "source": [
    "#Moved to API section because query purposes\n",
    "#Reference: https://www.guru99.com/date-time-and-datetime-classes-in-python.html\n",
    "#from datetime import datetime\n",
    "#today = datetime.now()\n",
    "#today_date = datetime.time(datetime.now())\n",
    "\n",
    "#TIMESTAMP\n",
    "#Reference: https://stackoverflow.com/questions/5998245/get-current-time-in-milliseconds-in-python\n",
    "#milliseconds = int(round(time.time() * 1000))\n",
    "#Timestamp = milliseconds\n",
    "# returns seconds from struct_time\n",
    "#print(\"Miliseconds today's date: \", today)\n",
    "#print(\"Timestamp: \", milliseconds)\n",
    "\n",
    "\n",
    "#timestamp https://www.youtube.com/watch?v=XX4jTksUFB8"
   ]
  },
  {
   "cell_type": "code",
   "execution_count": null,
   "metadata": {},
   "outputs": [],
   "source": []
  },
  {
   "cell_type": "markdown",
   "metadata": {},
   "source": [
    "### API token, secret key and acess keys\n",
    "\n",
    "API tokens (and other sensitive information) shall be stored in a secrets.py file that doesn't get pushed to your local Git repository. The AcessKey and SecretKey are provided by the server admin."
   ]
  },
  {
   "cell_type": "code",
   "execution_count": null,
   "metadata": {},
   "outputs": [],
   "source": [
    "from secrets import AccessKey \n",
    "from secrets import SecretKey\n",
    "\n",
    "\n",
    "#https://stackoverflow.com/questions/31848293/python3-and-hmac-how-to-handle-string-not-being-binary\n",
    "def _generate_signature(data):\n",
    "    key = 'key'\n",
    "    key_bytes= bytes(key , 'utf-8') \n",
    "    data_bytes = bytes(data, 'utf-8')\n",
    "    return hmac.new(key_bytes, data_bytes , hashlib.sha256).hexdigest()\n",
    "#urlencode\n",
    "queryStr = \"urlencode\"\n",
    "#urlencode\n",
    "#\"https://api.novadax.com/v1/common/symbols/birthday=1999-01-31&cpf=12345678901&name=username\"\n",
    "body = {\"name\":\"username\",\"cpf\":\"12345678901\",\"bithday\":\"1999-01-31\"}\n",
    "body_hash = _generate_signature(f\"{body}\")\n",
    "symbol = 'ETH_USDT'\n",
    "signStr = f'https://api.novadax.com/v1/market/ticker?symbol={symbol}'\n",
    "signStry = requests.get(signStr).json()\n",
    "print(signStry)\n",
    "\n",
    "#qstr = \"urlencode\"\n",
    "qStr = _generate_signature(queryStr)\n",
    "\n",
    "#timestamp_url = f'https://api.novadax.com/v1/common/timestamp'\n",
    "#Timestamp = requests.get(timestamp_url).json()\n",
    "#tsp = str(Timestamp['data'])\n",
    "#print(timestamp)\n",
    "strgetdata = signStrget['data']\n",
    "timestamp = strgetdata['timestamp']\n",
    "tsp = str(timestamp)\n",
    "\n",
    "signature = f'{queryStr}{SecretKey}'\n",
    "\n",
    "hmac_sha256 = _generate_signature(signature)\n",
    "Sign = hmac_sha256\n",
    "print(Sign)\n",
    "\n",
    "#{método de requisição}\\n{caminho de requisição}\\n{string a ser codificada}\\n{timeStamp}\n",
    "signStrget = requests.get(signStr, headers={\"X-Nova-Access-Key\":AccessKey, \"X-Nova-Signature\": Sign, \"X-Nova-Timestamp\": tsp}).json()\n",
    "print(signStrget)"
   ]
  },
  {
   "cell_type": "markdown",
   "metadata": {},
   "source": [
    "### Importing tht List of currencies, making the API Call and the table Dataframe\n",
    "Now it's time to structure our API calls to the api url.\n",
    "The next thing we need to do is import the constituents of the cryptocurrencies table."
   ]
  },
  {
   "cell_type": "code",
   "execution_count": 4,
   "metadata": {
    "scrolled": true
   },
   "outputs": [],
   "source": [
    "#API call\n",
    "symbols = ['ETH_USDT', 'BTC_USDT']\n",
    "symbol = 'ETH_USDT'\n",
    "api_url = f'https://api.novadax.com/v1/market/ticker?symbol={symbol}'\n",
    "df = requests.get(api_url).json()"
   ]
  },
  {
   "cell_type": "code",
   "execution_count": 5,
   "metadata": {},
   "outputs": [],
   "source": [
    "#Parse for data then get price\n",
    "dfdata = df['data']\n",
    "price = float(dfdata['lastPrice'])\n",
    "baseVolume24h = dfdata['baseVolume24h']"
   ]
  },
  {
   "cell_type": "code",
   "execution_count": 6,
   "metadata": {},
   "outputs": [
    {
     "name": "stdout",
     "output_type": "stream",
     "text": [
      "Enter the value of your position in BRL:1585\n",
      "R$ 1585\n"
     ]
    }
   ],
   "source": [
    "currency = 'R$'\n",
    "def position():\n",
    "    global position\n",
    "    position = input(\"Enter the value of your position in BRL:\")\n",
    "\n",
    "    try:\n",
    "        val = float(position)\n",
    "    except ValueError:\n",
    "        print(\"That's not a number! \\n Try again:\")\n",
    "        position = input(\"Enter the value of your position in BRL:\")\n",
    "\n",
    "        \n",
    "position()\n",
    "print(currency, position)"
   ]
  },
  {
   "cell_type": "code",
   "execution_count": 8,
   "metadata": {},
   "outputs": [
    {
     "name": "stdout",
     "output_type": "stream",
     "text": [
      "Enter the dolar value today in BRL:5.36\n",
      "R$ 5.36\n"
     ]
    }
   ],
   "source": [
    "def dolar_day():\n",
    "    global dolar_day\n",
    "    dolar_day = input(\"Enter the dolar value today in BRL:\")\n",
    "\n",
    "    try:\n",
    "        val = float(dolar_day)\n",
    "    except ValueError:\n",
    "        print(\"That's not a number! \\n Try again:\")\n",
    "        dolar_day = input(\"Enter the dolar value today in BRL:\")\n",
    "dolar_day()\n",
    "print(currency, dolar_day)"
   ]
  },
  {
   "cell_type": "code",
   "execution_count": 12,
   "metadata": {},
   "outputs": [
    {
     "data": {
      "text/html": [
       "<div>\n",
       "<style scoped>\n",
       "    .dataframe tbody tr th:only-of-type {\n",
       "        vertical-align: middle;\n",
       "    }\n",
       "\n",
       "    .dataframe tbody tr th {\n",
       "        vertical-align: top;\n",
       "    }\n",
       "\n",
       "    .dataframe thead th {\n",
       "        text-align: right;\n",
       "    }\n",
       "</style>\n",
       "<table border=\"1\" class=\"dataframe\">\n",
       "  <thead>\n",
       "    <tr style=\"text-align: right;\">\n",
       "      <th></th>\n",
       "      <th>Symbol</th>\n",
       "      <th>Currency Price</th>\n",
       "      <th>Base Volume 24h</th>\n",
       "      <th>Number of Shares to Buy</th>\n",
       "    </tr>\n",
       "  </thead>\n",
       "  <tbody>\n",
       "    <tr>\n",
       "      <th>0</th>\n",
       "      <td>ETH_USDT</td>\n",
       "      <td>1858.22</td>\n",
       "      <td>79.805</td>\n",
       "      <td>0.159136</td>\n",
       "    </tr>\n",
       "    <tr>\n",
       "      <th>1</th>\n",
       "      <td>BTC_USDT</td>\n",
       "      <td>47234.93</td>\n",
       "      <td>5.502657</td>\n",
       "      <td>0.006260</td>\n",
       "    </tr>\n",
       "  </tbody>\n",
       "</table>\n",
       "</div>"
      ],
      "text/plain": [
       "     Symbol Currency Price Base Volume 24h  Number of Shares to Buy\n",
       "0  ETH_USDT        1858.22          79.805                 0.159136\n",
       "1  BTC_USDT       47234.93        5.502657                 0.006260"
      ]
     },
     "execution_count": 12,
     "metadata": {},
     "output_type": "execute_result"
    }
   ],
   "source": [
    "#Final Dataframe\n",
    "my_columns = ['Symbol', 'Currency Price', 'Base Volume 24h', 'Number of Shares to Buy']\n",
    "f_dataframe = pd.DataFrame(columns = my_columns)\n",
    "\n",
    "for symbol in symbols:\n",
    "    api_url = f'https://api.novadax.com/v1/market/ticker?symbol={symbol}'\n",
    "    fddata = requests.get(api_url).json()\n",
    "    fdata = fddata['data']\n",
    "    price = float(fdata['lastPrice'])\n",
    "    baseVolume24h = fdata['baseVolume24h']\n",
    "    shares_to_buy = (float(position)/float(dolar_day)/float(price))\n",
    "    for i in fdata['symbol'][:1]:\n",
    "        f_dataframe.append(\n",
    "            pd.Series(\n",
    "                [\n",
    "                    symbol,\n",
    "                    price,\n",
    "                    baseVolume24h,\n",
    "                    'N/A'\n",
    "                ]\n",
    "                ,index = my_columns),\n",
    "            ignore_index=True)\n",
    "    \n",
    "    \n",
    "        f_dataframe = f_dataframe.append(\n",
    "                                            pd.Series([symbol, \n",
    "                                                       fdata['lastPrice'], \n",
    "\n",
    "                                                       fdata['baseVolume24h'], \n",
    "                                                       shares_to_buy], \n",
    "                                                      index = my_columns), \n",
    "                                            ignore_index = True)\n",
    "\n",
    "f_dataframe"
   ]
  },
  {
   "cell_type": "markdown",
   "metadata": {},
   "source": [
    "### Sending the requisition to the web\n",
    "The content in the order requisition should be sent to the server following the instructions given by the company or individual that holds the coin."
   ]
  },
  {
   "cell_type": "code",
   "execution_count": null,
   "metadata": {},
   "outputs": [],
   "source": [
    "#dax_url = f'https://api.novadax.com/v1/common/symbols'\n",
    "#novadax = requests.get(dax_url).json()\n",
    "#nvdx = novadax['data']\n",
    "#print(nvdx)\n",
    "#from novadax import RequestClient as NovaClient\n",
    "\n",
    "#nova_client = NovaClient(AcessKey, SecretKey)\n",
    "\n",
    "#result = nova_client.create_order('BTC_BRL', 'LIMIT', 'BUY', price = '35000.00', amount = '0.001')\n",
    "\n",
    "#print(result)"
   ]
  },
  {
   "cell_type": "code",
   "execution_count": null,
   "metadata": {},
   "outputs": [],
   "source": []
  },
  {
   "cell_type": "code",
   "execution_count": null,
   "metadata": {},
   "outputs": [],
   "source": []
  }
 ],
 "metadata": {
  "kernelspec": {
   "display_name": "Python 3",
   "language": "python",
   "name": "python3"
  },
  "language_info": {
   "codemirror_mode": {
    "name": "ipython",
    "version": 3
   },
   "file_extension": ".py",
   "mimetype": "text/x-python",
   "name": "python",
   "nbconvert_exporter": "python",
   "pygments_lexer": "ipython3",
   "version": "3.8.5"
  }
 },
 "nbformat": 4,
 "nbformat_minor": 4
}
