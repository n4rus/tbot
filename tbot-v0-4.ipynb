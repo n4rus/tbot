{
 "cells": [
  {
   "cell_type": "markdown",
   "metadata": {},
   "source": [
    "### Tbot - Trade Bot\n",
    "\n",
    " Tbot is a Robot of trade developed to trade cryptourrencies or s&p500 stocks, based on https/json queries. With few adjustments it may help traders to improve their workflow. In this file we shall compile three steps followed at the \"Algorithimic Trading Using Python\" course created by the api developer and completed by the developer of this api. (\"https://freecodecamp.org\")\n",
    " \n",
    "### Library Imports\n",
    "The first thing we need to do is import the open-source software libraries that we'll be using in this api. "
   ]
  },
  {
   "cell_type": "code",
   "execution_count": 1,
   "metadata": {},
   "outputs": [],
   "source": [
    "import numpy as np\n",
    "import pandas as pd\n",
    "import requests\n",
    "import secrets\n",
    "import xlsxwriter\n",
    "import math\n",
    "import hmac\n",
    "import time\n",
    "import datetime\n",
    "import hashlib\n",
    "import binascii"
   ]
  },
  {
   "cell_type": "markdown",
   "metadata": {},
   "source": [
    "### Timestamp data\n",
    "Acquires timestamp and stores it"
   ]
  },
  {
   "cell_type": "code",
   "execution_count": 2,
   "metadata": {},
   "outputs": [],
   "source": [
    "#Moved to API Call and further sections for more precise query purposes"
   ]
  },
  {
   "cell_type": "markdown",
   "metadata": {},
   "source": [
    "### API token, secret key and acess keys\n",
    "\n",
    "API tokens (and other sensitive information) shall be stored in a secrets.py file that doesn't get pushed to your local Git repository. The AcessKey and SecretKey are provided by the server admin."
   ]
  },
  {
   "cell_type": "code",
   "execution_count": 3,
   "metadata": {},
   "outputs": [],
   "source": [
    "from secrets import SecretKey\n",
    "from secrets import AccessKey"
   ]
  },
  {
   "cell_type": "code",
   "execution_count": 4,
   "metadata": {},
   "outputs": [
    {
     "ename": "NameError",
     "evalue": "name 'symbol' is not defined",
     "output_type": "error",
     "traceback": [
      "\u001b[0;31m---------------------------------------------------------------------------\u001b[0m",
      "\u001b[0;31mNameError\u001b[0m                                 Traceback (most recent call last)",
      "\u001b[0;32m<ipython-input-4-493776548f3f>\u001b[0m in \u001b[0;36m<module>\u001b[0;34m\u001b[0m\n\u001b[1;32m      3\u001b[0m \u001b[0mnova_client\u001b[0m \u001b[0;34m=\u001b[0m \u001b[0mNovaClient\u001b[0m\u001b[0;34m(\u001b[0m\u001b[0mAccessKey\u001b[0m\u001b[0;34m,\u001b[0m \u001b[0mSecretKey\u001b[0m\u001b[0;34m)\u001b[0m\u001b[0;34m\u001b[0m\u001b[0;34m\u001b[0m\u001b[0m\n\u001b[1;32m      4\u001b[0m \u001b[0;34m\u001b[0m\u001b[0m\n\u001b[0;32m----> 5\u001b[0;31m \u001b[0mresult\u001b[0m \u001b[0;34m=\u001b[0m \u001b[0mnova_client\u001b[0m\u001b[0;34m.\u001b[0m\u001b[0mget_symbol\u001b[0m\u001b[0;34m(\u001b[0m\u001b[0msymbol\u001b[0m\u001b[0;34m)\u001b[0m\u001b[0;34m\u001b[0m\u001b[0;34m\u001b[0m\u001b[0m\n\u001b[0m\u001b[1;32m      6\u001b[0m \u001b[0mprint\u001b[0m\u001b[0;34m(\u001b[0m\u001b[0mresult\u001b[0m\u001b[0;34m)\u001b[0m\u001b[0;34m\u001b[0m\u001b[0;34m\u001b[0m\u001b[0m\n",
      "\u001b[0;31mNameError\u001b[0m: name 'symbol' is not defined"
     ]
    }
   ],
   "source": [
    "from novadax import RequestClient as NovaClient\n",
    "\n",
    "nova_client = NovaClient(AccessKey, SecretKey)\n",
    "\n",
    "result = nova_client.get_symbol(symbol)\n",
    "print(result)"
   ]
  },
  {
   "cell_type": "markdown",
   "metadata": {},
   "source": [
    "### Importing tht List of currencies, making the API Call and the table Dataframe\n",
    "Now it's time to structure our API calls to the api url.\n",
    "The next thing we need to do is import the constituents of the cryptocurrencies table."
   ]
  },
  {
   "cell_type": "code",
   "execution_count": null,
   "metadata": {
    "scrolled": true
   },
   "outputs": [],
   "source": [
    "#API call\n",
    "symbols = ['ETH_USDT', 'BTC_USDT']\n",
    "symbol = 'ETH_USDT'\n",
    "api_url = f'https://api.novadax.com/v1/market/ticker?symbol={symbol}'\n",
    "df = requests.get(api_url).json()"
   ]
  },
  {
   "cell_type": "code",
   "execution_count": null,
   "metadata": {},
   "outputs": [],
   "source": [
    "#Parse for data then get price\n",
    "dfdata = df['data']\n",
    "price = float(dfdata['lastPrice'])\n",
    "baseVolume24h = dfdata['baseVolume24h']"
   ]
  },
  {
   "cell_type": "code",
   "execution_count": 75,
   "metadata": {},
   "outputs": [
    {
     "name": "stdout",
     "output_type": "stream",
     "text": [
      "Enter the value of your position in BRL:835\n",
      "R$ 835\n"
     ]
    }
   ],
   "source": [
    "currency = 'R$'\n",
    "def position():\n",
    "    global position\n",
    "    position = input(\"Enter the value of your position in BRL:\")\n",
    "\n",
    "    try:\n",
    "        val = float(position)\n",
    "    except ValueError:\n",
    "        print(\"That's not a number! \\n Try again:\")\n",
    "        position = input(\"Enter the value of your position in BRL:\")\n",
    "\n",
    "        \n",
    "position()\n",
    "print(currency, position)"
   ]
  },
  {
   "cell_type": "code",
   "execution_count": null,
   "metadata": {},
   "outputs": [],
   "source": [
    "def dolar_day():\n",
    "    global dolar_day\n",
    "    dolar_day = input(\"Enter the dolar value today in BRL:\")\n",
    "\n",
    "    try:\n",
    "        val = float(dolar_day)\n",
    "    except ValueError:\n",
    "        print(\"That's not a number! \\n Try again:\")\n",
    "        dolar_day = input(\"Enter the dolar value today in BRL:\")\n",
    "dolar_day()\n",
    "print(currency, dolar_day)"
   ]
  },
  {
   "cell_type": "markdown",
   "metadata": {},
   "source": [
    "### Sending the requisition to the web\n",
    "The content in the order requisition should be sent to the server following the instructions given by the company or individual that holds the coin."
   ]
  },
  {
   "cell_type": "code",
   "execution_count": null,
   "metadata": {},
   "outputs": [],
   "source": []
  },
  {
   "cell_type": "code",
   "execution_count": null,
   "metadata": {},
   "outputs": [],
   "source": [
    "#orders\n",
    "listtrades = nova_client.list_orders(symbol, 'FILLED', limit=10)\n",
    "ldata = listtrades['data']\n",
    "lindice= ldata[0]\n",
    "amount = lindice['amount']\n",
    "#print(ldata)"
   ]
  },
  {
   "cell_type": "code",
   "execution_count": 10,
   "metadata": {},
   "outputs": [
    {
     "ename": "NameError",
     "evalue": "name 'symbols' is not defined",
     "output_type": "error",
     "traceback": [
      "\u001b[0;31m---------------------------------------------------------------------------\u001b[0m",
      "\u001b[0;31mNameError\u001b[0m                                 Traceback (most recent call last)",
      "\u001b[0;32m<ipython-input-10-901d2409a0b6>\u001b[0m in \u001b[0;36m<module>\u001b[0;34m\u001b[0m\n\u001b[1;32m      2\u001b[0m \u001b[0mf_dataframe\u001b[0m \u001b[0;34m=\u001b[0m \u001b[0mpd\u001b[0m\u001b[0;34m.\u001b[0m\u001b[0mDataFrame\u001b[0m\u001b[0;34m(\u001b[0m\u001b[0mcolumns\u001b[0m \u001b[0;34m=\u001b[0m \u001b[0mmy_columns\u001b[0m\u001b[0;34m)\u001b[0m\u001b[0;34m\u001b[0m\u001b[0;34m\u001b[0m\u001b[0m\n\u001b[1;32m      3\u001b[0m \u001b[0;34m\u001b[0m\u001b[0m\n\u001b[0;32m----> 4\u001b[0;31m \u001b[0;32mfor\u001b[0m \u001b[0msymbol\u001b[0m \u001b[0;32min\u001b[0m \u001b[0msymbols\u001b[0m\u001b[0;34m:\u001b[0m\u001b[0;34m\u001b[0m\u001b[0;34m\u001b[0m\u001b[0m\n\u001b[0m\u001b[1;32m      5\u001b[0m     \u001b[0mlisttrades\u001b[0m \u001b[0;34m=\u001b[0m \u001b[0mnova_client\u001b[0m\u001b[0;34m.\u001b[0m\u001b[0mlist_trades\u001b[0m\u001b[0;34m(\u001b[0m\u001b[0msymbol\u001b[0m\u001b[0;34m,\u001b[0m \u001b[0mlimit\u001b[0m\u001b[0;34m=\u001b[0m\u001b[0;36m5\u001b[0m\u001b[0;34m)\u001b[0m\u001b[0;34m\u001b[0m\u001b[0;34m\u001b[0m\u001b[0m\n\u001b[1;32m      6\u001b[0m     \u001b[0mf\u001b[0m \u001b[0;34m=\u001b[0m \u001b[0;36m0\u001b[0m\u001b[0;34m\u001b[0m\u001b[0;34m\u001b[0m\u001b[0m\n",
      "\u001b[0;31mNameError\u001b[0m: name 'symbols' is not defined"
     ]
    }
   ],
   "source": [
    "my_columns = ['Symbol', 'Ammount','Price']\n",
    "f_dataframe = pd.DataFrame(columns = my_columns)\n",
    "\n",
    "for symbol in symbols:\n",
    "    listtrades = nova_client.list_trades(symbol, limit=5)\n",
    "    f = 0\n",
    "    for i in listtrades['data']:\n",
    "        ldata = listtrades['data']\n",
    "        lindice = ldata[f]\n",
    "        amount = lindice['amount']\n",
    "        price = float(lindice['price'])\n",
    "        tsp = (lindice['timestamp'])\n",
    "        f = f + 1\n",
    "        f_dataframe.append(\n",
    "                    pd.Series(\n",
    "                    [\n",
    "                        symbol,\n",
    "                        amount,\n",
    "                        price,\n",
    "                    ]\n",
    "                    ,index = my_columns),\n",
    "                ignore_index=True)\n",
    "\n",
    "    \n",
    "        f_dataframe = f_dataframe.append(\n",
    "                pd.Series([\n",
    "                        symbol,\n",
    "                        amount,\n",
    "                        price,\n",
    "                      ]\n",
    "                ,index = my_columns), \n",
    "                ignore_index = True)\n",
    "\n",
    "f_dataframe"
   ]
  },
  {
   "cell_type": "code",
   "execution_count": null,
   "metadata": {},
   "outputs": [],
   "source": [
    "#sort price\n",
    "#wallet_amount \n",
    "#buy lower(wallet_amount - amount)     \n",
    "#sell + profit(constant*market momentum)\n",
    "#if sell = true; [buy lower < sell][(sell - (contant*momentum)/2 or (buy + constant/momentum)/2\n",
    "#P = S - B; SUM(Pi to Pn)  = Pi{(S - D) or (S - B)}\n",
    "#in the if statement one more contidional is needed at the \"or\" statment. If or else(momentum>=x or else)"
   ]
  },
  {
   "cell_type": "code",
   "execution_count": null,
   "metadata": {},
   "outputs": [],
   "source": []
  }
 ],
 "metadata": {
  "kernelspec": {
   "display_name": "Python 3",
   "language": "python",
   "name": "python3"
  },
  "language_info": {
   "codemirror_mode": {
    "name": "ipython",
    "version": 3
   },
   "file_extension": ".py",
   "mimetype": "text/x-python",
   "name": "python",
   "nbconvert_exporter": "python",
   "pygments_lexer": "ipython3",
   "version": "3.8.5"
  }
 },
 "nbformat": 4,
 "nbformat_minor": 4
}
