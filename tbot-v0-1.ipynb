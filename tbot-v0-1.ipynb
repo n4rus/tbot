{
 "cells": [
  {
   "cell_type": "markdown",
   "metadata": {},
   "source": [
    "### Tbot - Trade Bot\n",
    "\n",
    " Tbot is a Robot of trade developed to trade cryptourrencies or s&p500 stocks, based on https/json queries. With few adjustments it may help traders to improve their workflow. In this file we shall compile three steps followed at the \"Algorithimic Trading Using Python\" course created by the api developer and completed by the developer of this api. (\"https://freecodecamp.org\")\n",
    " \n",
    "### Library Imports\n",
    "The first thing we need to do is import the open-source software libraries that we'll be using in this api. "
   ]
  },
  {
   "cell_type": "code",
   "execution_count": 12,
   "metadata": {},
   "outputs": [],
   "source": [
    "import numpy as np\n",
    "import pandas as pd\n",
    "import requests\n",
    "import secrets\n",
    "import xlsxwriter\n",
    "import math\n",
    "import hmac\n",
    "import time\n",
    "import datetime\n",
    "import hashlib\n",
    "import binascii"
   ]
  },
  {
   "cell_type": "markdown",
   "metadata": {},
   "source": [
    "### Timestamp data\n",
    "Acquires timestamp and stores it"
   ]
  },
  {
   "cell_type": "code",
   "execution_count": 13,
   "metadata": {},
   "outputs": [],
   "source": [
    "#Moved to API section because query purposes"
   ]
  },
  {
   "cell_type": "markdown",
   "metadata": {},
   "source": [
    "### API token, secret key and acess keys\n",
    "\n",
    "API tokens (and other sensitive information) shall be stored in a secrets.py file that doesn't get pushed to your local Git repository. The AcessKey and SecretKey are provided by the server admin."
   ]
  },
  {
   "cell_type": "code",
   "execution_count": 16,
   "metadata": {},
   "outputs": [
    {
     "name": "stdout",
     "output_type": "stream",
     "text": [
      "{'code': 'A10000', 'data': {'ask': '1827.47', 'baseVolume24h': '64.5845', 'bid': '1816.19', 'high24h': '1817.43', 'lastPrice': '1803.34', 'low24h': '1740.64', 'open24h': '1780.01', 'quoteVolume24h': '114509.980079', 'symbol': 'ETH_USDT', 'timestamp': 1613150538259}, 'message': 'Success'}\n"
     ]
    }
   ],
   "source": [
    "from secrets import AccessKey \n",
    "from secrets import SecretKey\n",
    "\n",
    "timestamp_url = f'https://api.novadax.com/v1/common/timestamp'\n",
    "Timestamp = requests.get(timestamp_url).json()\n",
    "tsp = str(Timestamp['data'])\n",
    "\n",
    "#https://stackoverflow.com/questions/31848293/python3-and-hmac-how-to-handle-string-not-being-binary\n",
    "def _generate_signature(data):\n",
    "    key = 'key' # Defined as a simple string.\n",
    "    key_bytes= bytes(key , 'latin-1') # Commonly 'latin-1' or 'utf-8'\n",
    "    data_bytes = bytes(data, 'latin-1') # Assumes `data` is also a string.\n",
    "    return hmac.new(key_bytes, data_bytes , hashlib.sha256).hexdigest()\n",
    "#20210210 14:19:26 - [Prototipe-Done] \n",
    "#print(_generate_signature('this is my string of data'))\n",
    "\n",
    "queryStr = ''\n",
    "#qstr = _generate_signature(qstr) #print(queryStr)  [ok]\n",
    "#secretsha = _generate_signature(SecretKey) #print(akhd) [ok]\n",
    "#qstrakhd = f'{queryStr}{akhd}{timestamp_hmacsha}' #print(qstrakhd) [ok]\n",
    "#timesha = _generate_signature(tsp) #print(qstrakhd) [ok]\n",
    "\n",
    "#urlencode\n",
    "#\"https://api.novadax.com/v1/common/symbols/birthday=1999-12-19&cpf=12345678901&name=username\"\n",
    "body = {\"name\":\"username\",\"cpf\":\"12345678901\",\"bithday\":\"1999-01-31\"}\n",
    "bodyhash = _generate_signature(f\"{body}\")\n",
    "#key_stwe = f'{AccessKey}{body_hash}'\n",
    "#key_stwo = encrypt_hmac(key_stwe)\n",
    "#hmac_sha256 = key_stwo\n",
    "#signStr = f'https://api.novadax.com/v1/market/ticker?symbol={symbol}' [ok]\n",
    "symbol = 'ETH_USDT'\n",
    "signStr = f'https://api.novadax.com/v1/market/ticker?symbol={symbol}'\n",
    "\n",
    "#signature = _generate_signature(signStr) [ok]\n",
    "fock = f'{signStr}{SecretKey}{body}\\n{tsp}'\n",
    "signature = _generate_signature(fock)\n",
    "\n",
    "Sign = signature\n",
    "\n",
    "#{método de requisição}\\n{caminho de requisição}\\n{string a ser codificada}\\n{timeStamp}\n",
    "signStrget = requests.get(signStr, headers={\"X-Nova-Access-Key\":AccessKey, \"X-Nova-Signature\": Sign, \"X-Nova-Timestamp\": tsp}).json()\n",
    "print(signStrget)"
   ]
  },
  {
   "cell_type": "code",
   "execution_count": null,
   "metadata": {},
   "outputs": [],
   "source": []
  },
  {
   "cell_type": "markdown",
   "metadata": {},
   "source": [
    "### Importing tht List of currencies, making the API Call and the table Dataframe\n",
    "Now it's time to structure our API calls to the api url.\n",
    "The next thing we need to do is import the constituents of the cryptocurrencies table."
   ]
  },
  {
   "cell_type": "code",
   "execution_count": 15,
   "metadata": {
    "scrolled": true
   },
   "outputs": [
    {
     "data": {
      "text/plain": [
       "{'code': 'A10000',\n",
       " 'data': {'ask': '1827.48',\n",
       "  'baseVolume24h': '64.5845',\n",
       "  'bid': '1816.3',\n",
       "  'high24h': '1817.43',\n",
       "  'lastPrice': '1803.34',\n",
       "  'low24h': '1740.64',\n",
       "  'open24h': '1780.01',\n",
       "  'quoteVolume24h': '114509.980079',\n",
       "  'symbol': 'ETH_USDT',\n",
       "  'timestamp': 1613150522498},\n",
       " 'message': 'Success'}"
      ]
     },
     "execution_count": 15,
     "metadata": {},
     "output_type": "execute_result"
    }
   ],
   "source": [
    "#API call\n",
    "symbol = 'ETH_USDT'\n",
    "api_url = f'https://api.novadax.com/v1/market/ticker?symbol={symbol}'\n",
    "df = requests.get(api_url).json()\n",
    "df"
   ]
  },
  {
   "cell_type": "code",
   "execution_count": 93,
   "metadata": {},
   "outputs": [],
   "source": [
    "signStrget = requests.get(signStr).json()"
   ]
  },
  {
   "cell_type": "code",
   "execution_count": 94,
   "metadata": {},
   "outputs": [
    {
     "name": "stdout",
     "output_type": "stream",
     "text": [
      "19.6769\n"
     ]
    }
   ],
   "source": [
    "#Parse for data then get price\n",
    "dfdata = df['data']\n",
    "price = dfdata['lastPrice']\n",
    "baseVolume24h = dfdata['baseVolume24h']\n",
    "print(baseVolume24h)"
   ]
  },
  {
   "cell_type": "code",
   "execution_count": 96,
   "metadata": {},
   "outputs": [
    {
     "data": {
      "text/html": [
       "<div>\n",
       "<style scoped>\n",
       "    .dataframe tbody tr th:only-of-type {\n",
       "        vertical-align: middle;\n",
       "    }\n",
       "\n",
       "    .dataframe tbody tr th {\n",
       "        vertical-align: top;\n",
       "    }\n",
       "\n",
       "    .dataframe thead th {\n",
       "        text-align: right;\n",
       "    }\n",
       "</style>\n",
       "<table border=\"1\" class=\"dataframe\">\n",
       "  <thead>\n",
       "    <tr style=\"text-align: right;\">\n",
       "      <th></th>\n",
       "      <th>Symbol</th>\n",
       "      <th>Currency Price</th>\n",
       "      <th>Base Volume 24h</th>\n",
       "      <th>Number of Shares to Buy</th>\n",
       "    </tr>\n",
       "  </thead>\n",
       "  <tbody>\n",
       "    <tr>\n",
       "      <th>0</th>\n",
       "      <td>ETH_USDT</td>\n",
       "      <td>1724.53</td>\n",
       "      <td>19.6769</td>\n",
       "      <td>N/A</td>\n",
       "    </tr>\n",
       "  </tbody>\n",
       "</table>\n",
       "</div>"
      ],
      "text/plain": [
       "     Symbol Currency Price Base Volume 24h Number of Shares to Buy\n",
       "0  ETH_USDT        1724.53         19.6769                     N/A"
      ]
     },
     "execution_count": 96,
     "metadata": {},
     "output_type": "execute_result"
    }
   ],
   "source": [
    "#Dataframe\n",
    "my_columns = ['Symbol', 'Currency Price', 'Base Volume 24h', 'Number of Shares to Buy']\n",
    "final_dataframe = pd.DataFrame(columns = my_columns)\n",
    "\n",
    "for i in dfdata['symbol'][:1]:\n",
    "    final_dataframe.append(\n",
    "        pd.Series(\n",
    "            [\n",
    "                symbol,\n",
    "                price,\n",
    "                baseVolume24h,\n",
    "                'N/A'\n",
    "            ]\n",
    "            ,index = my_columns),\n",
    "        ignore_index=True)\n",
    "\n",
    "    \n",
    "    final_dataframe = final_dataframe.append(\n",
    "                                        pd.Series([symbol, \n",
    "                                                   dfdata['lastPrice'], \n",
    "          \n",
    "                                                   dfdata['baseVolume24h'], \n",
    "                                                   'N/A'], \n",
    "                                                  index = my_columns), \n",
    "                                        ignore_index = True)\n",
    "\n",
    "final_dataframe"
   ]
  },
  {
   "cell_type": "code",
   "execution_count": null,
   "metadata": {},
   "outputs": [],
   "source": []
  },
  {
   "cell_type": "markdown",
   "metadata": {},
   "source": [
    "### Sending the requisition to the web\n",
    "The content in the order requisition should be sent to the server following the instructions given by the company or individual that holds the coin."
   ]
  },
  {
   "cell_type": "code",
   "execution_count": 146,
   "metadata": {},
   "outputs": [],
   "source": [
    "#dax_url = f'https://api.novadax.com/v1/common/symbols'\n",
    "#novadax = requests.get(dax_url).json()\n",
    "#nvdx = novadax['data']\n",
    "#print(nvdx)\n",
    "#from novadax import RequestClient as NovaClient\n",
    "\n",
    "#nova_client = NovaClient(AcessKey, SecretKey)\n",
    "\n",
    "#result = nova_client.create_order('BTC_BRL', 'LIMIT', 'BUY', price = '35000.00', amount = '0.001')\n",
    "\n",
    "#print(result)"
   ]
  },
  {
   "cell_type": "code",
   "execution_count": 128,
   "metadata": {},
   "outputs": [],
   "source": []
  },
  {
   "cell_type": "code",
   "execution_count": null,
   "metadata": {},
   "outputs": [],
   "source": []
  }
 ],
 "metadata": {
  "kernelspec": {
   "display_name": "Python 3",
   "language": "python",
   "name": "python3"
  },
  "language_info": {
   "codemirror_mode": {
    "name": "ipython",
    "version": 3
   },
   "file_extension": ".py",
   "mimetype": "text/x-python",
   "name": "python",
   "nbconvert_exporter": "python",
   "pygments_lexer": "ipython3",
   "version": "3.8.5"
  }
 },
 "nbformat": 4,
 "nbformat_minor": 4
}
